{
 "cells": [
  {
   "cell_type": "code",
   "execution_count": null,
   "id": "383b3128",
   "metadata": {},
   "outputs": [],
   "source": [
    "from time import sleep\n",
    "from selenium import webdriver\n",
    "from bs4 import BeautifulSoup\n",
    "import selenium.webdriver.common.keys\n",
    "from selenium.webdriver.common.by import By\n",
    "import csv\n",
    "\n"
   ]
  },
  {
   "cell_type": "code",
   "execution_count": 23,
   "id": "7f2d3a69",
   "metadata": {},
   "outputs": [],
   "source": [
    "\n",
    "path=\"C:\\Program Files (x86)\\chromedriver.exe\"\n",
    "driver = webdriver.Chrome()\n",
    "driver.get(kayak)\n",
    "sleep(10)"
   ]
  },
  {
   "cell_type": "code",
   "execution_count": 24,
   "id": "dac2f880",
   "metadata": {},
   "outputs": [],
   "source": [
    "pop_window='//div[@class=\"bBPb-close\"]'\n",
    "driver.find_element(By.XPATH,'//div[@class=\"bBPb-close\"]').click()"
   ]
  },
  {
   "cell_type": "code",
   "execution_count": 25,
   "id": "f27526df",
   "metadata": {},
   "outputs": [
    {
     "name": "stdout",
     "output_type": "stream",
     "text": [
      "[<selenium.webdriver.remote.webelement.WebElement (session=\"e13ddbd75c4fb9e8cffbfb25025c8157\", element=\"e44b7e3c-28fa-48f6-87b1-3fc403c21703\")>, <selenium.webdriver.remote.webelement.WebElement (session=\"e13ddbd75c4fb9e8cffbfb25025c8157\", element=\"2b99cd19-e3d8-4641-8f67-3d120bddfe5d\")>, <selenium.webdriver.remote.webelement.WebElement (session=\"e13ddbd75c4fb9e8cffbfb25025c8157\", element=\"ec7baab8-a22f-49a7-a22f-7e49c30605ba\")>, <selenium.webdriver.remote.webelement.WebElement (session=\"e13ddbd75c4fb9e8cffbfb25025c8157\", element=\"773ae0db-bbcb-4738-9784-6c0c28faf185\")>, <selenium.webdriver.remote.webelement.WebElement (session=\"e13ddbd75c4fb9e8cffbfb25025c8157\", element=\"dafbe5de-0c84-47ec-bdb2-fced1a4aa87a\")>, <selenium.webdriver.remote.webelement.WebElement (session=\"e13ddbd75c4fb9e8cffbfb25025c8157\", element=\"98cede16-b9c9-4db7-905d-b21f0af95650\")>, <selenium.webdriver.remote.webelement.WebElement (session=\"e13ddbd75c4fb9e8cffbfb25025c8157\", element=\"46c99bed-db08-42bc-9eb5-aa09f8991a1a\")>, <selenium.webdriver.remote.webelement.WebElement (session=\"e13ddbd75c4fb9e8cffbfb25025c8157\", element=\"97cd6b0b-8f3a-48ec-9a58-39f7cb40ae80\")>, <selenium.webdriver.remote.webelement.WebElement (session=\"e13ddbd75c4fb9e8cffbfb25025c8157\", element=\"2c2e628c-f775-4dbe-9430-0f0ae55fc7be\")>, <selenium.webdriver.remote.webelement.WebElement (session=\"e13ddbd75c4fb9e8cffbfb25025c8157\", element=\"3b460559-d4e9-45b5-bd85-20467a210616\")>, <selenium.webdriver.remote.webelement.WebElement (session=\"e13ddbd75c4fb9e8cffbfb25025c8157\", element=\"7a8e446e-b0ac-4c7a-897d-cb75f8776e3f\")>, <selenium.webdriver.remote.webelement.WebElement (session=\"e13ddbd75c4fb9e8cffbfb25025c8157\", element=\"b98ebdb1-593b-4ef2-a3a2-b1db65ea308b\")>, <selenium.webdriver.remote.webelement.WebElement (session=\"e13ddbd75c4fb9e8cffbfb25025c8157\", element=\"ceee8003-3c0a-4443-8ce6-9a6fdc9437d7\")>, <selenium.webdriver.remote.webelement.WebElement (session=\"e13ddbd75c4fb9e8cffbfb25025c8157\", element=\"fee53bab-7762-4ae1-bc49-b8d09b4ca6c7\")>, <selenium.webdriver.remote.webelement.WebElement (session=\"e13ddbd75c4fb9e8cffbfb25025c8157\", element=\"de8bafe8-d75c-41cc-99f1-31ab10172e7f\")>]\n"
     ]
    }
   ],
   "source": [
    "flight_rows=driver.find_elements(By.XPATH,'//div[@class=\"inner-grid keel-grid\"]')\n",
    "print(flight_rows)\n"
   ]
  },
  {
   "cell_type": "code",
   "execution_count": 26,
   "id": "2dc95494",
   "metadata": {},
   "outputs": [],
   "source": [
    "lst_prices =[]\n",
    "lst_company_names =[]"
   ]
  },
  {
   "cell_type": "code",
   "execution_count": 27,
   "id": "61cea70b",
   "metadata": {},
   "outputs": [],
   "source": [
    "for WebElement in flight_rows:\n",
    "    elementHTML=WebElement.get_attribute('outerHTML')\n",
    "    elementSoup=BeautifulSoup(elementHTML,'html.parser')\n",
    "    #price\n",
    "    temp_price=elementSoup.find(\"div\",{\"class\":\"col-price result-column js-no-dtog\"})\n",
    "    price=temp_price.find(\"span\",{\"class\":\"price-text\"})\n",
    "    lst_prices.append(price.text)\n",
    "    \n",
    "    company_names=elementSoup.find(\"span\",{\"class\":\"codeshares-airline-names\"}).text\n",
    "    lst_company_names.append(company_names)\n",
    "   "
   ]
  },
  {
   "cell_type": "code",
   "execution_count": 33,
   "id": "49648487",
   "metadata": {
    "scrolled": true
   },
   "outputs": [
    {
     "name": "stdout",
     "output_type": "stream",
     "text": [
      "['IndiGo', 'GoFirst, IndiGo', 'IndiGo', 'AirAsia India', 'AirAsia India', 'GoFirst, Akasa Air', 'Akasa Air', 'IndiGo, Akasa Air', 'AirAsia India, Akasa Air', 'AirAsia India, Akasa Air', 'IndiGo, Akasa Air', 'GoFirst, AirAsia India', 'Akasa Air, IndiGo', 'Akasa Air, AirAsia India', 'IndiGo, AirAsia India']\n",
      "['\\n₹\\xa06,285 ', '\\n₹\\xa06,489 ', '\\n₹\\xa06,658 ', '\\n₹\\xa06,713 ', '\\n₹\\xa06,832 ', '\\n₹\\xa06,866 ', '\\n₹\\xa06,921 ', '\\n₹\\xa06,988 ', '\\n₹\\xa07,135 ', '\\n₹\\xa07,135 ', '\\n₹\\xa07,359 ', '\\n₹\\xa06,863 ', '\\n₹\\xa06,875 ', '\\n₹\\xa06,905 ', '\\n₹\\xa06,947 ']\n"
     ]
    }
   ],
   "source": [
    "print(lst_company_names)\n",
    "print(lst_prices)"
   ]
  },
  {
   "cell_type": "code",
   "execution_count": 29,
   "id": "6baad9fa",
   "metadata": {},
   "outputs": [
    {
     "name": "stdout",
     "output_type": "stream",
     "text": [
      "['6,285', '6,489', '6,658', '6,713', '6,832', '6,866', '6,921', '6,988', '7,135', '7,135', '7,359', '6,863', '6,875', '6,905', '6,947']\n"
     ]
    }
   ],
   "source": [
    "prices=[]\n",
    "for i in lst_prices:\n",
    "    prices.append((i[3:-1]))\n",
    "print(prices)"
   ]
  },
  {
   "cell_type": "code",
   "execution_count": 30,
   "id": "2c2b0eca",
   "metadata": {},
   "outputs": [
    {
     "name": "stdout",
     "output_type": "stream",
     "text": [
      "IndiGo                        : ₹6,285\n",
      "GoFirst, IndiGo               : ₹6,489\n",
      "IndiGo                        : ₹6,658\n",
      "AirAsia India                 : ₹6,713\n",
      "AirAsia India                 : ₹6,832\n",
      "GoFirst, Akasa Air            : ₹6,866\n",
      "Akasa Air                     : ₹6,921\n",
      "IndiGo, Akasa Air             : ₹6,988\n",
      "AirAsia India, Akasa Air      : ₹7,135\n",
      "AirAsia India, Akasa Air      : ₹7,135\n",
      "IndiGo, Akasa Air             : ₹7,359\n",
      "GoFirst, AirAsia India        : ₹6,863\n",
      "Akasa Air, IndiGo             : ₹6,875\n",
      "Akasa Air, AirAsia India      : ₹6,905\n",
      "IndiGo, AirAsia India         : ₹6,947\n"
     ]
    }
   ],
   "source": [
    "for i in range(len(prices)):\n",
    "    x=(lst_company_names[i]).ljust(30)+': ₹'+prices[i]\n",
    "    print(x)\n",
    "    "
   ]
  },
  {
   "cell_type": "code",
   "execution_count": null,
   "id": "70af2415",
   "metadata": {},
   "outputs": [],
   "source": [
    "x=[]\n",
    "f=open(\"flights1.csv\",\"a\")\n",
    "\n",
    "writer=csv.writer(f)\n",
    "\n",
    "writer.writerow(lst_company_names)\n",
    "writer.writerow(prices)\n",
    "f.close()\n",
    "\n"
   ]
  }
 ],
 "metadata": {
  "kernelspec": {
   "display_name": "Python 3 (ipykernel)",
   "language": "python",
   "name": "python3"
  },
  "language_info": {
   "codemirror_mode": {
    "name": "ipython",
    "version": 3
   },
   "file_extension": ".py",
   "mimetype": "text/x-python",
   "name": "python",
   "nbconvert_exporter": "python",
   "pygments_lexer": "ipython3",
   "version": "3.10.4"
  }
 },
 "nbformat": 4,
 "nbformat_minor": 5
}
